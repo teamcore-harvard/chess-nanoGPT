{
 "cells": [
  {
   "cell_type": "code",
   "execution_count": null,
   "metadata": {},
   "outputs": [],
   "source": [
    "import os\n",
    "import numpy as np\n",
    "import torch\n",
    "\n",
    "device = 'cpu'\n",
    "block_size = 1023\n",
    "batch_size = 2\n",
    "dataset = ''\n",
    "\n",
    "# poor man's data loader\n",
    "data_dir = dataset\n",
    "train_data = np.memmap(os.path.join(data_dir, 'train.bin'), dtype=np.uint8, mode='r')\n",
    "val_data = np.memmap(os.path.join(data_dir, 'val.bin'), dtype=np.uint8, mode='r')\n",
    "def get_batch(split):\n",
    "    data = train_data if split == 'train' else val_data\n",
    "    # ix = torch.randint(len(data) - block_size, (batch_size,))\n",
    "    # Ensure the starting index is a multiple of block_size\n",
    "    ix = torch.randint(0, len(data) // (block_size + 1), (batch_size,)) * (block_size + 1)\n",
    "    x = torch.stack([torch.from_numpy((data[i:i+block_size]).astype(np.int64)) for i in ix])\n",
    "    y = torch.stack([torch.from_numpy((data[i+1:i+1+block_size]).astype(np.int64)) for i in ix])\n",
    "    x, y = x.to(device), y.to(device)\n",
    "    return x, y"
   ]
  },
  {
   "cell_type": "code",
   "execution_count": 119,
   "metadata": {},
   "outputs": [
    {
     "name": "stdout",
     "output_type": "stream",
     "text": [
      "5162455040\n",
      "102887.0\n"
     ]
    }
   ],
   "source": [
    "print(len(train_data))\n",
    "print(len(val_data) / 1024)"
   ]
  },
  {
   "cell_type": "code",
   "execution_count": 120,
   "metadata": {},
   "outputs": [
    {
     "name": "stdout",
     "output_type": "stream",
     "text": [
      "{'vocab_size': 32, 'itos': {0: ' ', 1: '#', 2: '+', 3: '-', 4: '.', 5: '0', 6: '1', 7: '2', 8: '3', 9: '4', 10: '5', 11: '6', 12: '7', 13: '8', 14: '9', 15: ';', 16: '=', 17: 'B', 18: 'K', 19: 'N', 20: 'O', 21: 'Q', 22: 'R', 23: 'a', 24: 'b', 25: 'c', 26: 'd', 27: 'e', 28: 'f', 29: 'g', 30: 'h', 31: 'x'}, 'stoi': {' ': 0, '#': 1, '+': 2, '-': 3, '.': 4, '0': 5, '1': 6, '2': 7, '3': 8, '4': 9, '5': 10, '6': 11, '7': 12, '8': 13, '9': 14, ';': 15, '=': 16, 'B': 17, 'K': 18, 'N': 19, 'O': 20, 'Q': 21, 'R': 22, 'a': 23, 'b': 24, 'c': 25, 'd': 26, 'e': 27, 'f': 28, 'g': 29, 'h': 30, 'x': 31}}\n"
     ]
    }
   ],
   "source": [
    "import pickle\n",
    "import os\n",
    "\n",
    "\n",
    "# Usage\n",
    "# meta_file_path = os.path.join(os.path.dirname(__file__), 'meta.pkl')\n",
    "file_path = 'meta.pkl'\n",
    "with open(file_path, 'rb') as f:\n",
    "    data = pickle.load(f)\n",
    "print(data)\n",
    "\n",
    "itos = data['itos']\n",
    "\n",
    "def decode(l):\n",
    "    return ''.join([itos[i] for i in l]) # decoder: take a list of integers, output a string"
   ]
  },
  {
   "cell_type": "code",
   "execution_count": 141,
   "metadata": {},
   "outputs": [
    {
     "name": "stdout",
     "output_type": "stream",
     "text": [
      "Batch\n",
      "tensor([[15,  6,  4,  ..., 14,  4, 30],\n",
      "        [15,  6,  4,  ..., 21, 31, 26]])\n",
      "y\n",
      "tensor([[ 6,  4, 27,  ...,  4, 30, 31],\n",
      "        [ 6,  4, 27,  ..., 31, 26, 13]])\n"
     ]
    }
   ],
   "source": [
    "X, Y = get_batch('val')\n",
    "print(\"Batch\")\n",
    "print(X)\n",
    "print(\"y\")\n",
    "print(Y)"
   ]
  },
  {
   "cell_type": "code",
   "execution_count": 122,
   "metadata": {},
   "outputs": [
    {
     "name": "stdout",
     "output_type": "stream",
     "text": [
      ";1.c4 e5 2.Nc3 Nf6 3.Nf3 Nc6 4.e3 Bb4 5.Be2 e4 6.Nd4 Bxc3 7.bxc3 Ne7 8.Ba3 d6 9.c5 dxc5 10.Bxc5 O-O 11.h3 b6 12.Bxe7 Qxe7 13.O-O c5 14.Nb3 Qc7 15.a4 a5 16.d4 exd3 17.Qxd3 Ba6 18.c4 Rfe8 19.Bf3 Bb7 20.Bxb7 Qxb7 21.Rfd1 Qe7 22.Qd6 Qe4 23.Nd2 Qe6 24.Qxe6 Rxe6 25.Kf1 Rd8 26.g4 Red6 27.Ke2 g5 28.f3 Kg7 29.Nf1 h6 30.Rxd6 Rxd6 31.Ng3 Kh7 32.Nf5 Rc6 33.Rd1 Ne8 34.Rd8 Re6 35.e4 Nf6 36.Rf8 Ne8 37.Rxf7+ Kg8 38.Rb7 Kf8 39.Kd3 Rf6 40.f4 gxf4 41.e5 Re6 42.Ke4 h5 43.Kxf4 hxg4 44.hxg4 Rc6 45.Ne7 Rh6 46.Nd5 Rg6 47.g5 Ng7 48.Nxb6 Ke8 49.Nd5 Kf8 50.Ra7 Re6 51.Rxa5 Re8 52.Ra7 Ne6+ 53.Kg4 Nxg5 54.Nf6 Rxe5 55.Nd7+ Ke8 56.Nxe5 Ne6 57.a5 Kd8 58.Rd7+ Kc8 59.a6 Nc7 60.a7 Na8 61.Kg3 Nb6 62.Rf7 Kd8 63.a8=Q+ Nxa8 64.Rf8+ Kc7 65.Rxa8 Kb7 66.Ra1 Kb8 67.Ra6 Kc7 68.Nd3 Kd7 69.Nxc5+ Kc7 70.Kf4 Kb8 71.Ke5 Kc7 72.Ke6 Kc8 73.Kd6 Kd8 74.Ra8#;1.e4 c5 2.Nf3 Nc6 3.Bb5 e6 4.O-O Nge7 5.Re1 b6 6.d4 cxd4 7.Nxd4 e5 8.Nf3 a6 9.Bc4 Bb7 10.Ng5 d5 11.Bxd5 Nxd5 12.exd5 Nb4 13.Rxe5+ Qe7 14.Rxe7+ Kd8 15.Nxf7+ Kxe7 16.Qe1+ Kd7 17.Qe6+ Kc7 18.Bf4+ Bd6 19.Bxd6#;1\n",
      ";1.d4 c5 2.d5 h5 3.e4 e6 4.Nf3 Nf6 5.Bg5 Qb6 6.Nbd2 Qa5 7.c3 Qd8 8.e5 exd5 9.exf6 Qb6 10.Qe2+ Qe6 11.c4 Rg8 12.fxg7 Bxg7 13.O-O-O Qxe2 14.Bxe2 Bd4 15.cxd5 f6 16.Bh4 Rg4 17.h3 Rg8 18.Nxd4 Kf8 19.Nf5 Rxg2 20.Bf3 Rg5 21.Bxg5 fxg5 22.Bxh5 d6 23.Nxd6 Bd7 24.Nxb7 Be8 25.Bxe8 Kxe8 26.Nxc5 Kf7 27.Nde4 Ke7 28.Rhg1 Nd7 29.d6+ Ke8 30.Rxg5 Nxc5 31.Rg8+ Kf7 32.Rxa8 Nd3+ 33.Rxd3 Kg6 34.d7 Kh7 35.d8=Q Kh6 36.Rxa7 Kh5 37.Qg5#;1.e4 e6 2.d4 c5 3.d5 Qe7 4.Nc3 exd5 5.Nxd5 Qxe4+ 6.Qe2 Qxe2+ 7.Nxe2 Kd8 8.Bf4 a5 9.Bc7+ Ke8 10.Nb6 Ra7 11.Bxb8 Ra8 12.Nxa8 h5 13.Bc7 d5 14.Nf4 g6 15.Nb6 Bd7 16.Nxd7 g5 17.Nxf8 gxf4 18.Be5 Rh6 19.Bg7 Rc6 20.O-O-O Ne7 21.Bb5 a4 22.Bxc6+ bxc6 23.Nh7 Nc8 24.Nf6+ Ke7 25.Rhe1+ Kd8 26.Re8+ Kc7 27.Nxh5 Na7 28.Be5+ Kb6 29.Rb8+ Ka6 30.Nxf4 a3 31.Nd3 Nb5 32.Nxc5+ Ka7 33.Rb7+ Ka8 34.Rxd5 axb2+ 35.Kxb2 f6 36.Rd8#;1.d4 d5 2.c4 e6 3.Nc3 c5 4.cxd5 exd5 5.Nf3 Nc6 6.a3 Nf6 7.e3 c4 8.Bd2 Bg4 9.Be2 Ne4 10.Nxe4 dxe4 11.Ne5 Bxe2 12.Qxe2 f6 13.Qh5+ g6 14.Nxg6 hxg6 15.Qxh8 a5 16.h4 c3 17.Bxc3 a4 18.h5 Ne7 19.Bb4 b5 20.Qxf6 gx\n",
      "1.c4 e5 2.Nc3 Nf6 3.Nf3 Nc6 4.e3 Bb4 5.Be2 e4 6.Nd4 Bxc3 7.bxc3 Ne7 8.Ba3 d6 9.c5 dxc5 10.Bxc5 O-O 11.h3 b6 12.Bxe7 Qxe7 13.O-O c5 14.Nb3 Qc7 15.a4 a5 16.d4 exd3 17.Qxd3 Ba6 18.c4 Rfe8 19.Bf3 Bb7 20.Bxb7 Qxb7 21.Rfd1 Qe7 22.Qd6 Qe4 23.Nd2 Qe6 24.Qxe6 Rxe6 25.Kf1 Rd8 26.g4 Red6 27.Ke2 g5 28.f3 Kg7 29.Nf1 h6 30.Rxd6 Rxd6 31.Ng3 Kh7 32.Nf5 Rc6 33.Rd1 Ne8 34.Rd8 Re6 35.e4 Nf6 36.Rf8 Ne8 37.Rxf7+ Kg8 38.Rb7 Kf8 39.Kd3 Rf6 40.f4 gxf4 41.e5 Re6 42.Ke4 h5 43.Kxf4 hxg4 44.hxg4 Rc6 45.Ne7 Rh6 46.Nd5 Rg6 47.g5 Ng7 48.Nxb6 Ke8 49.Nd5 Kf8 50.Ra7 Re6 51.Rxa5 Re8 52.Ra7 Ne6+ 53.Kg4 Nxg5 54.Nf6 Rxe5 55.Nd7+ Ke8 56.Nxe5 Ne6 57.a5 Kd8 58.Rd7+ Kc8 59.a6 Nc7 60.a7 Na8 61.Kg3 Nb6 62.Rf7 Kd8 63.a8=Q+ Nxa8 64.Rf8+ Kc7 65.Rxa8 Kb7 66.Ra1 Kb8 67.Ra6 Kc7 68.Nd3 Kd7 69.Nxc5+ Kc7 70.Kf4 Kb8 71.Ke5 Kc7 72.Ke6 Kc8 73.Kd6 Kd8 74.Ra8#;1.e4 c5 2.Nf3 Nc6 3.Bb5 e6 4.O-O Nge7 5.Re1 b6 6.d4 cxd4 7.Nxd4 e5 8.Nf3 a6 9.Bc4 Bb7 10.Ng5 d5 11.Bxd5 Nxd5 12.exd5 Nb4 13.Rxe5+ Qe7 14.Rxe7+ Kd8 15.Nxf7+ Kxe7 16.Qe1+ Kd7 17.Qe6+ Kc7 18.Bf4+ Bd6 19.Bxd6#;1.\n",
      "1.d4 c5 2.d5 h5 3.e4 e6 4.Nf3 Nf6 5.Bg5 Qb6 6.Nbd2 Qa5 7.c3 Qd8 8.e5 exd5 9.exf6 Qb6 10.Qe2+ Qe6 11.c4 Rg8 12.fxg7 Bxg7 13.O-O-O Qxe2 14.Bxe2 Bd4 15.cxd5 f6 16.Bh4 Rg4 17.h3 Rg8 18.Nxd4 Kf8 19.Nf5 Rxg2 20.Bf3 Rg5 21.Bxg5 fxg5 22.Bxh5 d6 23.Nxd6 Bd7 24.Nxb7 Be8 25.Bxe8 Kxe8 26.Nxc5 Kf7 27.Nde4 Ke7 28.Rhg1 Nd7 29.d6+ Ke8 30.Rxg5 Nxc5 31.Rg8+ Kf7 32.Rxa8 Nd3+ 33.Rxd3 Kg6 34.d7 Kh7 35.d8=Q Kh6 36.Rxa7 Kh5 37.Qg5#;1.e4 e6 2.d4 c5 3.d5 Qe7 4.Nc3 exd5 5.Nxd5 Qxe4+ 6.Qe2 Qxe2+ 7.Nxe2 Kd8 8.Bf4 a5 9.Bc7+ Ke8 10.Nb6 Ra7 11.Bxb8 Ra8 12.Nxa8 h5 13.Bc7 d5 14.Nf4 g6 15.Nb6 Bd7 16.Nxd7 g5 17.Nxf8 gxf4 18.Be5 Rh6 19.Bg7 Rc6 20.O-O-O Ne7 21.Bb5 a4 22.Bxc6+ bxc6 23.Nh7 Nc8 24.Nf6+ Ke7 25.Rhe1+ Kd8 26.Re8+ Kc7 27.Nxh5 Na7 28.Be5+ Kb6 29.Rb8+ Ka6 30.Nxf4 a3 31.Nd3 Nb5 32.Nxc5+ Ka7 33.Rb7+ Ka8 34.Rxd5 axb2+ 35.Kxb2 f6 36.Rd8#;1.d4 d5 2.c4 e6 3.Nc3 c5 4.cxd5 exd5 5.Nf3 Nc6 6.a3 Nf6 7.e3 c4 8.Bd2 Bg4 9.Be2 Ne4 10.Nxe4 dxe4 11.Ne5 Bxe2 12.Qxe2 f6 13.Qh5+ g6 14.Nxg6 hxg6 15.Qxh8 a5 16.h4 c3 17.Bxc3 a4 18.h5 Ne7 19.Bb4 b5 20.Qxf6 gxh\n"
     ]
    }
   ],
   "source": [
    "print(decode(X[0].tolist()))\n",
    "print(decode(X[1].tolist()))\n",
    "print(decode(Y[0].tolist()))\n",
    "print(decode(Y[1].tolist()))"
   ]
  }
 ],
 "metadata": {
  "kernelspec": {
   "display_name": "openai",
   "language": "python",
   "name": "python3"
  },
  "language_info": {
   "codemirror_mode": {
    "name": "ipython",
    "version": 3
   },
   "file_extension": ".py",
   "mimetype": "text/x-python",
   "name": "python",
   "nbconvert_exporter": "python",
   "pygments_lexer": "ipython3",
   "version": "3.11.5"
  }
 },
 "nbformat": 4,
 "nbformat_minor": 2
}
