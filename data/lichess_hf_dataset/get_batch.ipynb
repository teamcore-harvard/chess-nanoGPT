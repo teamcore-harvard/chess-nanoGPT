{
 "cells": [
  {
   "cell_type": "code",
   "execution_count": 17,
   "metadata": {},
   "outputs": [],
   "source": [
    "import os\n",
    "import numpy as np\n",
    "import torch\n",
    "\n",
    "device = 'cpu'\n",
    "block_size = 1023\n",
    "batch_size = 2\n",
    "dataset = ''\n",
    "\n",
    "# poor man's data loader\n",
    "data_dir = dataset\n",
    "train_data = np.memmap(os.path.join(data_dir, 'train_elocondition.bin'), dtype=np.uint8, mode='r')\n",
    "val_data = np.memmap(os.path.join(data_dir, 'val_elocondition.bin'), dtype=np.uint8, mode='r')\n",
    "def get_batch(split):\n",
    "    data = train_data if split == 'train' else val_data\n",
    "    # ix = torch.randint(len(data) - block_size, (batch_size,))\n",
    "    # Ensure the starting index is a multiple of block_size\n",
    "    ix = torch.randint(0, len(data) // (block_size + 1), (batch_size,)) * (block_size + 1)\n",
    "    x = torch.stack([torch.from_numpy((data[i:i+block_size]).astype(np.int64)) for i in ix])\n",
    "    y = torch.stack([torch.from_numpy((data[i+1:i+1+block_size]).astype(np.int64)) for i in ix])\n",
    "    x, y = x.to(device), y.to(device)\n",
    "    return x, y"
   ]
  },
  {
   "cell_type": "code",
   "execution_count": 18,
   "metadata": {},
   "outputs": [
    {
     "name": "stdout",
     "output_type": "stream",
     "text": [
      "14642907136\n",
      "144442.0\n"
     ]
    }
   ],
   "source": [
    "print(len(train_data))\n",
    "print(len(val_data) / 1024)"
   ]
  },
  {
   "cell_type": "code",
   "execution_count": 19,
   "metadata": {},
   "outputs": [
    {
     "name": "stdout",
     "output_type": "stream",
     "text": [
      "{'vocab_size': 32, 'itos': {0: ' ', 1: '#', 2: '+', 3: '-', 4: '.', 5: '0', 6: '1', 7: '2', 8: '3', 9: '4', 10: '5', 11: '6', 12: '7', 13: '8', 14: '9', 15: ';', 16: '=', 17: 'B', 18: 'K', 19: 'N', 20: 'O', 21: 'Q', 22: 'R', 23: 'a', 24: 'b', 25: 'c', 26: 'd', 27: 'e', 28: 'f', 29: 'g', 30: 'h', 31: 'x'}, 'stoi': {' ': 0, '#': 1, '+': 2, '-': 3, '.': 4, '0': 5, '1': 6, '2': 7, '3': 8, '4': 9, '5': 10, '6': 11, '7': 12, '8': 13, '9': 14, ';': 15, '=': 16, 'B': 17, 'K': 18, 'N': 19, 'O': 20, 'Q': 21, 'R': 22, 'a': 23, 'b': 24, 'c': 25, 'd': 26, 'e': 27, 'f': 28, 'g': 29, 'h': 30, 'x': 31}}\n"
     ]
    }
   ],
   "source": [
    "import pickle\n",
    "import os\n",
    "\n",
    "\n",
    "# Usage\n",
    "# meta_file_path = os.path.join(os.path.dirname(__file__), 'meta.pkl')\n",
    "file_path = 'meta.pkl'\n",
    "with open(file_path, 'rb') as f:\n",
    "    data = pickle.load(f)\n",
    "print(data)\n",
    "\n",
    "itos = data['itos']\n",
    "\n",
    "def decode(l):\n",
    "    return ''.join([itos[i] for i in l]) # decoder: take a list of integers, output a string"
   ]
  },
  {
   "cell_type": "code",
   "execution_count": 20,
   "metadata": {},
   "outputs": [
    {
     "name": "stdout",
     "output_type": "stream",
     "text": [
      "Batch\n",
      "tensor([[15,  6, 12,  ...,  4, 28, 31],\n",
      "        [15,  6, 11,  ..., 11,  0, 18]])\n",
      "y\n",
      "tensor([[ 6, 12, 14,  ..., 28, 31, 29],\n",
      "        [ 6, 11,  5,  ...,  0, 18, 24]])\n"
     ]
    }
   ],
   "source": [
    "X, Y = get_batch('val')\n",
    "print(\"Batch\")\n",
    "print(X)\n",
    "print(\"y\")\n",
    "print(Y)"
   ]
  },
  {
   "cell_type": "code",
   "execution_count": 21,
   "metadata": {},
   "outputs": [
    {
     "name": "stdout",
     "output_type": "stream",
     "text": [
      ";1799 1806 1.d4 d5 2.c4 c6 3.Nf3 Nf6 4.Nc3 Bf5 5.cxd5 cxd5 6.Qb3 Qb6 7.Nxd5 Qxb3 8.Nxf6+ gxf6 9.axb3 Nc6 10.e3 e5 11.d5 Bb4+ 12.Bd2 Bxd2+ 13.Nxd2 Nb4 14.Bb5+ Kf8 15.O-O Nxd5 16.e4 Nc7 17.Bc4 Be6 18.Rfd1 Ke7 19.Nf1 Rhd8 20.Ng3 b5 21.Bxe6 fxe6 22.Rdc1 Rd7 23.Rc6 a6 24.Rac1 Ra7 25.Nh5 Ne8 26.Rc8 Nd6 27.Rh8 Nxe4 28.Rxh7+ Kd8 29.Rh8+ Ke7 30.Rh7+ Kd6 31.Rd1+ Kc6 32.Rc1+ Kb6 33.Rh8 Rd2 34.f3 Nf2 35.b4 Nd3 36.Rc3 Rd1#;1387 2095 1.e3 d5 2.Be2 e6 3.g4 Nf6 4.f4 Nfd7 5.g5 c5 6.Kf2 h6 7.Nf3 hxg5 8.Nxg5 Nf6 9.Nf3 Ne4+ 10.Kf1 Be7 11.d3 Bh4 12.dxe4 dxe4 13.Ng5 Bxg5 14.fxg5 Qxg5 15.Rg1 Qf6+ 16.Kg2 Rxh2+ 17.Kxh2 Qf2+ 18.Rg2 Qh4+ 19.Kg1 Qh1+ 20.Kxh1 Nc6 21.Kg1 Bd7 22.Rg6 Kd8 23.Rxg7 Kc7 24.Rxf7 Rf8 25.Rxd7+ Kb6 26.Bg4 Rg8;1698 1686 1.e4 c5 2.Nc3 e6 3.Bc4 Nc6 4.Nf3 Nf6 5.d3 g6 6.Bg5 Bg7 7.e5 Qb6 8.exf6 Bf8 9.b3 Na5 10.Rb1 d5 11.b4 cxb4 12.Na4 Qc6 13.Bb3 Nxb3 14.axb3 b5 15.Nb2 a5 16.Ne5 Qc3+ 17.Qd2 Qxe5+ 18.Kd1 Bc5 19.f4 Qc3 20.Qxc3 bxc3 21.Na4 bxa4 22.bxa4 Bd7 23.Ra1 Bf8 24.Re1 h5 25.Re3 h4 26.h3 Bh6 27.d4 Rc8 28.Ra3 Bxg5 29.fx\n",
      ";1603 1581 1.e4 g6 2.f4 Bg7 3.Nf3 c6 4.d4 b5 5.c3 a5 6.Be3 a4 7.Nbd2 e6 8.Be2 Ne7 9.O-O O-O 10.h3 Bb7 11.g4 d5 12.e5 Nd7 13.Bd3 f5 14.gxf5 exf5 15.Ng5 h6 16.Ne6 Qc8 17.Nxf8 Qxf8 18.h4 h5 19.Qf3 Nc8 20.Qg3 Kh7 21.Nf3 Bh6 22.Be2 c5 23.Rad1 cxd4 24.Bxd4 Qf7 25.Ng5+ Bxg5 26.fxg5 Nf8 27.Qf4 Ne7 28.Bxb5 Bc6 29.Bxc6 Nxc6 30.Rde1 Na5 31.e6 Nxe6 32.Qe5 Re8 33.Qxd5 Nf4 34.Qxf7#;2496 2534 1.e4 e6 2.d4 d5 3.Nc3 dxe4 4.Nxe4 Bd7 5.Nf3 Bc6 6.Bd3 Nd7 7.O-O Be7 8.Re1 Ngf6 9.Nxf6+ Bxf6 10.Ne5 Bxe5 11.dxe5 Nc5 12.Qg4 Nxd3 13.cxd3 Qxd3 14.Bg5 Qg6 15.h3 h6 16.Be3 Qxg4 17.hxg4 O-O-O 18.Red1 Bd5 19.f3 h5 20.gxh5 Rxh5 21.Bf4 a5 22.Kf2 Rdh8 23.a3 a4 24.Rac1 b5 25.Re1 Kb7 26.Bg3 Kb6 27.Rc3 c5 28.Bf4 b4 29.axb4 cxb4 30.Be3+ Kb7 31.Rc5 Rxe5 32.Rb5+ Kc6 33.Rxb4 Kd7 34.Rxa4 Rb8 35.Ra7+ Ke8 36.Bd4 Rxe1 37.Kxe1 g6 38.Bf6 Rb7 39.Rxb7 Bxb7 40.Kd2 Kd7 41.Ke3 Kc6 42.f4 Kb5 43.g4 Kb4 44.g5 Kb3 45.Kd3 Ba6+ 46.Ke4 Bc4 47.Bc3 Kc2 48.Ke5 Kb3 49.Kf6 Bd3 50.Be5 Bf5 51.Kxf7 Kb4 52.Kf6 Kb3 53.Ke7 Kb4 54.Kd6 Kb3 55.Kd7 Kb4 56.Kc7 Kb3 57.Kc6 Kb4 58.Kb6 K\n",
      "1799 1806 1.d4 d5 2.c4 c6 3.Nf3 Nf6 4.Nc3 Bf5 5.cxd5 cxd5 6.Qb3 Qb6 7.Nxd5 Qxb3 8.Nxf6+ gxf6 9.axb3 Nc6 10.e3 e5 11.d5 Bb4+ 12.Bd2 Bxd2+ 13.Nxd2 Nb4 14.Bb5+ Kf8 15.O-O Nxd5 16.e4 Nc7 17.Bc4 Be6 18.Rfd1 Ke7 19.Nf1 Rhd8 20.Ng3 b5 21.Bxe6 fxe6 22.Rdc1 Rd7 23.Rc6 a6 24.Rac1 Ra7 25.Nh5 Ne8 26.Rc8 Nd6 27.Rh8 Nxe4 28.Rxh7+ Kd8 29.Rh8+ Ke7 30.Rh7+ Kd6 31.Rd1+ Kc6 32.Rc1+ Kb6 33.Rh8 Rd2 34.f3 Nf2 35.b4 Nd3 36.Rc3 Rd1#;1387 2095 1.e3 d5 2.Be2 e6 3.g4 Nf6 4.f4 Nfd7 5.g5 c5 6.Kf2 h6 7.Nf3 hxg5 8.Nxg5 Nf6 9.Nf3 Ne4+ 10.Kf1 Be7 11.d3 Bh4 12.dxe4 dxe4 13.Ng5 Bxg5 14.fxg5 Qxg5 15.Rg1 Qf6+ 16.Kg2 Rxh2+ 17.Kxh2 Qf2+ 18.Rg2 Qh4+ 19.Kg1 Qh1+ 20.Kxh1 Nc6 21.Kg1 Bd7 22.Rg6 Kd8 23.Rxg7 Kc7 24.Rxf7 Rf8 25.Rxd7+ Kb6 26.Bg4 Rg8;1698 1686 1.e4 c5 2.Nc3 e6 3.Bc4 Nc6 4.Nf3 Nf6 5.d3 g6 6.Bg5 Bg7 7.e5 Qb6 8.exf6 Bf8 9.b3 Na5 10.Rb1 d5 11.b4 cxb4 12.Na4 Qc6 13.Bb3 Nxb3 14.axb3 b5 15.Nb2 a5 16.Ne5 Qc3+ 17.Qd2 Qxe5+ 18.Kd1 Bc5 19.f4 Qc3 20.Qxc3 bxc3 21.Na4 bxa4 22.bxa4 Bd7 23.Ra1 Bf8 24.Re1 h5 25.Re3 h4 26.h3 Bh6 27.d4 Rc8 28.Ra3 Bxg5 29.fxg\n",
      "1603 1581 1.e4 g6 2.f4 Bg7 3.Nf3 c6 4.d4 b5 5.c3 a5 6.Be3 a4 7.Nbd2 e6 8.Be2 Ne7 9.O-O O-O 10.h3 Bb7 11.g4 d5 12.e5 Nd7 13.Bd3 f5 14.gxf5 exf5 15.Ng5 h6 16.Ne6 Qc8 17.Nxf8 Qxf8 18.h4 h5 19.Qf3 Nc8 20.Qg3 Kh7 21.Nf3 Bh6 22.Be2 c5 23.Rad1 cxd4 24.Bxd4 Qf7 25.Ng5+ Bxg5 26.fxg5 Nf8 27.Qf4 Ne7 28.Bxb5 Bc6 29.Bxc6 Nxc6 30.Rde1 Na5 31.e6 Nxe6 32.Qe5 Re8 33.Qxd5 Nf4 34.Qxf7#;2496 2534 1.e4 e6 2.d4 d5 3.Nc3 dxe4 4.Nxe4 Bd7 5.Nf3 Bc6 6.Bd3 Nd7 7.O-O Be7 8.Re1 Ngf6 9.Nxf6+ Bxf6 10.Ne5 Bxe5 11.dxe5 Nc5 12.Qg4 Nxd3 13.cxd3 Qxd3 14.Bg5 Qg6 15.h3 h6 16.Be3 Qxg4 17.hxg4 O-O-O 18.Red1 Bd5 19.f3 h5 20.gxh5 Rxh5 21.Bf4 a5 22.Kf2 Rdh8 23.a3 a4 24.Rac1 b5 25.Re1 Kb7 26.Bg3 Kb6 27.Rc3 c5 28.Bf4 b4 29.axb4 cxb4 30.Be3+ Kb7 31.Rc5 Rxe5 32.Rb5+ Kc6 33.Rxb4 Kd7 34.Rxa4 Rb8 35.Ra7+ Ke8 36.Bd4 Rxe1 37.Kxe1 g6 38.Bf6 Rb7 39.Rxb7 Bxb7 40.Kd2 Kd7 41.Ke3 Kc6 42.f4 Kb5 43.g4 Kb4 44.g5 Kb3 45.Kd3 Ba6+ 46.Ke4 Bc4 47.Bc3 Kc2 48.Ke5 Kb3 49.Kf6 Bd3 50.Be5 Bf5 51.Kxf7 Kb4 52.Kf6 Kb3 53.Ke7 Kb4 54.Kd6 Kb3 55.Kd7 Kb4 56.Kc7 Kb3 57.Kc6 Kb4 58.Kb6 Kb\n"
     ]
    }
   ],
   "source": [
    "print(decode(X[0].tolist()))\n",
    "print(decode(X[1].tolist()))\n",
    "print(decode(Y[0].tolist()))\n",
    "print(decode(Y[1].tolist()))"
   ]
  },
  {
   "cell_type": "code",
   "execution_count": null,
   "metadata": {},
   "outputs": [],
   "source": []
  }
 ],
 "metadata": {
  "kernelspec": {
   "display_name": "openai",
   "language": "python",
   "name": "python3"
  },
  "language_info": {
   "codemirror_mode": {
    "name": "ipython",
    "version": 3
   },
   "file_extension": ".py",
   "mimetype": "text/x-python",
   "name": "python",
   "nbconvert_exporter": "python",
   "pygments_lexer": "ipython3",
   "version": "3.11.5"
  }
 },
 "nbformat": 4,
 "nbformat_minor": 2
}
