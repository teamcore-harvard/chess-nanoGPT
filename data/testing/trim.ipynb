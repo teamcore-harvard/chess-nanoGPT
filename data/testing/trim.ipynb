{
 "cells": [
  {
   "cell_type": "code",
   "execution_count": 6,
   "metadata": {},
   "outputs": [
    {
     "name": "stdout",
     "output_type": "stream",
     "text": [
      "184263680\n",
      "179945.0\n"
     ]
    }
   ],
   "source": [
    "\n",
    "with open(\"input.txt\", 'r') as f:\n",
    "    data = f.read()\n",
    "\n",
    "print(len(data))\n",
    "print(len(data) / 1024)"
   ]
  },
  {
   "cell_type": "code",
   "execution_count": 5,
   "metadata": {},
   "outputs": [
    {
     "name": "stdout",
     "output_type": "stream",
     "text": [
      "184263680\n",
      "0\n"
     ]
    }
   ],
   "source": [
    "\n",
    "with open(\"input.txt\", 'r') as f:\n",
    "    data = f.read()\n",
    "\n",
    "remainder = len(data) % 1024\n",
    "new_data = data[:-remainder]\n",
    " \n",
    "print(len(new_data))\n",
    "print(len(new_data) % 1024)\n",
    "\n",
    "with open(\"input.txt\", 'w') as f:\n",
    "    f.write(new_data)"
   ]
  }
 ],
 "metadata": {
  "kernelspec": {
   "display_name": "openai",
   "language": "python",
   "name": "python3"
  },
  "language_info": {
   "codemirror_mode": {
    "name": "ipython",
    "version": 3
   },
   "file_extension": ".py",
   "mimetype": "text/x-python",
   "name": "python",
   "nbconvert_exporter": "python",
   "pygments_lexer": "ipython3",
   "version": "3.10.13"
  }
 },
 "nbformat": 4,
 "nbformat_minor": 2
}
